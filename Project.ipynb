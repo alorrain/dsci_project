{
 "cells": [
  {
   "cell_type": "markdown",
   "id": "269afd32-a51f-4a99-ad95-5b086e3be6d3",
   "metadata": {},
   "source": [
    "The purpose of this analysis is to see if age (specifically, comparing children (<18) and adults (≥18) plays a factor in a user's willingness to purchase a gaming newsletter subscription. This question was chosen as it is likely that the income for adults or the lack of other financial costs for children may both affect the decision of adults and children to purchase a gaming newsletter subscription."
   ]
  },
  {
   "cell_type": "code",
   "execution_count": 3,
   "id": "1c9b66a3-4143-4248-a234-1d323e414138",
   "metadata": {},
   "outputs": [],
   "source": [
    "library(tidyverse)\n",
    "library(repr)\n",
    "library(tidymodels)\n",
    "options(repr.matrix.max.rows = 6)\n"
   ]
  },
  {
   "cell_type": "markdown",
   "id": "ef4e851e-d41e-4dfb-84f2-e2e8fce2925d",
   "metadata": {},
   "source": [
    "Once the libraries are loaded, code is run to select only variables possibly related to or affected by the age of a user, as well as whether or not they are subscribed to the gaming newsletter. "
   ]
  },
  {
   "cell_type": "code",
   "execution_count": 4,
   "id": "72be343e-d201-488e-828f-54f134037167",
   "metadata": {},
   "outputs": [
    {
     "name": "stderr",
     "output_type": "stream",
     "text": [
      "\u001b[1mRows: \u001b[22m\u001b[34m196\u001b[39m \u001b[1mColumns: \u001b[22m\u001b[34m7\u001b[39m\n",
      "\u001b[36m──\u001b[39m \u001b[1mColumn specification\u001b[22m \u001b[36m────────────────────────────────────────────────────────\u001b[39m\n",
      "\u001b[1mDelimiter:\u001b[22m \",\"\n",
      "\u001b[31mchr\u001b[39m (4): experience, hashedEmail, name, gender\n",
      "\u001b[32mdbl\u001b[39m (2): played_hours, Age\n",
      "\u001b[33mlgl\u001b[39m (1): subscribe\n",
      "\n",
      "\u001b[36mℹ\u001b[39m Use `spec()` to retrieve the full column specification for this data.\n",
      "\u001b[36mℹ\u001b[39m Specify the column types or set `show_col_types = FALSE` to quiet this message.\n"
     ]
    },
    {
     "data": {
      "text/html": [
       "<table class=\"dataframe\">\n",
       "<caption>A tibble: 196 × 4</caption>\n",
       "<thead>\n",
       "\t<tr><th scope=col>experience</th><th scope=col>subscribe</th><th scope=col>played_hours</th><th scope=col>Age</th></tr>\n",
       "\t<tr><th scope=col>&lt;chr&gt;</th><th scope=col>&lt;lgl&gt;</th><th scope=col>&lt;dbl&gt;</th><th scope=col>&lt;dbl&gt;</th></tr>\n",
       "</thead>\n",
       "<tbody>\n",
       "\t<tr><td>Pro    </td><td> TRUE</td><td>30.3</td><td> 9</td></tr>\n",
       "\t<tr><td>Veteran</td><td> TRUE</td><td> 3.8</td><td>17</td></tr>\n",
       "\t<tr><td>Veteran</td><td>FALSE</td><td> 0.0</td><td>17</td></tr>\n",
       "\t<tr><td>⋮</td><td>⋮</td><td>⋮</td><td>⋮</td></tr>\n",
       "\t<tr><td>Amateur</td><td>FALSE</td><td>0.0</td><td>17</td></tr>\n",
       "\t<tr><td>Amateur</td><td>FALSE</td><td>2.3</td><td>17</td></tr>\n",
       "\t<tr><td>Pro    </td><td> TRUE</td><td>0.2</td><td>NA</td></tr>\n",
       "</tbody>\n",
       "</table>\n"
      ],
      "text/latex": [
       "A tibble: 196 × 4\n",
       "\\begin{tabular}{llll}\n",
       " experience & subscribe & played\\_hours & Age\\\\\n",
       " <chr> & <lgl> & <dbl> & <dbl>\\\\\n",
       "\\hline\n",
       "\t Pro     &  TRUE & 30.3 &  9\\\\\n",
       "\t Veteran &  TRUE &  3.8 & 17\\\\\n",
       "\t Veteran & FALSE &  0.0 & 17\\\\\n",
       "\t ⋮ & ⋮ & ⋮ & ⋮\\\\\n",
       "\t Amateur & FALSE & 0.0 & 17\\\\\n",
       "\t Amateur & FALSE & 2.3 & 17\\\\\n",
       "\t Pro     &  TRUE & 0.2 & NA\\\\\n",
       "\\end{tabular}\n"
      ],
      "text/markdown": [
       "\n",
       "A tibble: 196 × 4\n",
       "\n",
       "| experience &lt;chr&gt; | subscribe &lt;lgl&gt; | played_hours &lt;dbl&gt; | Age &lt;dbl&gt; |\n",
       "|---|---|---|---|\n",
       "| Pro     |  TRUE | 30.3 |  9 |\n",
       "| Veteran |  TRUE |  3.8 | 17 |\n",
       "| Veteran | FALSE |  0.0 | 17 |\n",
       "| ⋮ | ⋮ | ⋮ | ⋮ |\n",
       "| Amateur | FALSE | 0.0 | 17 |\n",
       "| Amateur | FALSE | 2.3 | 17 |\n",
       "| Pro     |  TRUE | 0.2 | NA |\n",
       "\n"
      ],
      "text/plain": [
       "    experience subscribe played_hours Age\n",
       "1   Pro         TRUE     30.3          9 \n",
       "2   Veteran     TRUE      3.8         17 \n",
       "3   Veteran    FALSE      0.0         17 \n",
       "⋮   ⋮          ⋮         ⋮            ⋮  \n",
       "194 Amateur    FALSE     0.0          17 \n",
       "195 Amateur    FALSE     2.3          17 \n",
       "196 Pro         TRUE     0.2          NA "
      ]
     },
     "metadata": {},
     "output_type": "display_data"
    }
   ],
   "source": [
    "players <- read_csv(\"Data/players.csv\") |>\n",
    "select(experience, subscribe, played_hours, Age)\n",
    "players"
   ]
  },
  {
   "cell_type": "markdown",
   "id": "4e1ca9ad-cc53-4276-9c70-558c090d8683",
   "metadata": {},
   "source": [
    "Next, a bar plot is created to compare adults to children. "
   ]
  },
  {
   "cell_type": "code",
   "execution_count": null,
   "id": "85efcd01-a673-4d38-9705-c0c96e805650",
   "metadata": {},
   "outputs": [],
   "source": []
  }
 ],
 "metadata": {
  "kernelspec": {
   "display_name": "R",
   "language": "R",
   "name": "ir"
  },
  "language_info": {
   "codemirror_mode": "r",
   "file_extension": ".r",
   "mimetype": "text/x-r-source",
   "name": "R",
   "pygments_lexer": "r",
   "version": "4.3.3"
  }
 },
 "nbformat": 4,
 "nbformat_minor": 5
}
