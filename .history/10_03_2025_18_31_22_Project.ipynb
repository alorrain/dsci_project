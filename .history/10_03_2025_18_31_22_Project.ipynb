{
 "cells": [
  {
   "cell_type": "markdown",
   "id": "f2dc5120-aabe-48b9-a151-7ef7004704b3",
   "metadata": {},
   "source": [
    "The purpose of this experiment is to find whether there is a relation between age groups (adult, ≥18 vs child, <18) and their willingness to subscribe to a gaming newsletter. The reasoning for this question is that certain age groups are more likely to have the money to spend on a subscription, either from having income (adults) or from not having to spend it on other items such as rent (child). "
   ]
  },
  {
   "cell_type": "code",
   "execution_count": null,
   "id": "04b233b8-9f5c-47a1-bebb-2cb62d34f845",
   "metadata": {},
   "outputs": [],
   "source": [
    "library(tidyverse)\n",
    "library(repr)\n",
    "library(tidymodels)"
   ]
  },
  {
   "cell_type": "code",
   "execution_count": null,
   "id": "93bc895b-1d71-4a74-a3ac-4aa4fd9df2e2",
   "metadata": {},
   "outputs": [],
   "source": [
    "players <- read_csv(\"Data/players.csv\") #|>\n",
    "#select(experience, subscribe, played_hours, Age)\n",
    "players"
   ]
  },
  {
   "cell_type": "code",
   "execution_count": null,
   "id": "acadce99-661d-4245-b7cf-da5760a19364",
   "metadata": {},
   "outputs": [],
   "source": []
  },
  {
   "cell_type": "code",
   "execution_count": null,
   "id": "7a764d68-b322-4a7f-b1b9-db89b0655012",
   "metadata": {},
   "outputs": [],
   "source": []
  }
 ],
 "metadata": {
  "kernelspec": {
   "display_name": "R",
   "language": "R",
   "name": "ir"
  },
  "language_info": {
   "codemirror_mode": "r",
   "file_extension": ".r",
   "mimetype": "text/x-r-source",
   "name": "R",
   "pygments_lexer": "r",
   "version": "4.3.3"
  }
 },
 "nbformat": 4,
 "nbformat_minor": 5
}
