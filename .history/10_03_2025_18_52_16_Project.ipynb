{
 "cells": [
  {
   "cell_type": "markdown",
   "id": "269afd32-a51f-4a99-ad95-5b086e3be6d3",
   "metadata": {},
   "source": [
    "The purpose of this analysis is to see if age (specifically, comparing children (<18) and adults (≥18) plays a factor in a user's willingness to purchase a gaming newsletter subscription. This question was chosen as it is likely that the income for adults or the lack of other financial costs for children may both affect the decision of adults and children to purchase a gaming newsletter subscription."
   ]
  },
  {
   "cell_type": "code",
   "execution_count": null,
   "id": "1c9b66a3-4143-4248-a234-1d323e414138",
   "metadata": {},
   "outputs": [],
   "source": [
    "library(tidyverse)\n",
    "library(repr)\n",
    "library(tidymodels)\n",
    "options(repr.matrix.max.rows = 6)\n"
   ]
  },
  {
   "cell_type": "markdown",
   "id": "ef4e851e-d41e-4dfb-84f2-e2e8fce2925d",
   "metadata": {},
   "source": [
    "Once the libraries are loaded, code is run to select only variables possibly related to or affected by the age of a user, as well as whether or not they are subscribed to the gaming newsletter. "
   ]
  },
  {
   "cell_type": "code",
   "execution_count": null,
   "id": "72be343e-d201-488e-828f-54f134037167",
   "metadata": {},
   "outputs": [],
   "source": [
    "players <- read_csv(\"Data/players.csv\") |>\n",
    "select(experience, subscribe, played_hours, Age)\n",
    "players"
   ]
  },
  {
   "cell_type": "code",
   "execution_count": null,
   "id": "2d21bde5-e4db-4deb-85a8-994ed8d98328",
   "metadata": {},
   "outputs": [],
   "source": []
  }
 ],
 "metadata": {
  "kernelspec": {
   "display_name": "R",
   "language": "R",
   "name": "ir"
  },
  "language_info": {
   "codemirror_mode": "r",
   "file_extension": ".r",
   "mimetype": "text/x-r-source",
   "name": "R",
   "pygments_lexer": "r",
   "version": "4.3.3"
  }
 },
 "nbformat": 4,
 "nbformat_minor": 5
}
