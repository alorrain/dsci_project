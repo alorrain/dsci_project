{
 "cells": [
  {
   "cell_type": "code",
   "execution_count": null,
   "id": "f53433da-27d4-4852-9257-2b15bd01717b",
   "metadata": {},
   "outputs": [],
   "source": [
    "library(tidyverse)\n",
    "library(repr)\n",
    "library(tidymodels)\n",
    "options(repr.matrix.max.rows = 6)"
   ]
  },
  {
   "cell_type": "markdown",
   "id": "b0af0330-2a14-4c82-8261-49c3d37584f4",
   "metadata": {},
   "source": [
    "This initial code is for loading the data.\n",
    "This data w"
   ]
  },
  {
   "cell_type": "code",
   "execution_count": null,
   "id": "c58039d9-2240-4b6b-be2a-d2af0d6ba165",
   "metadata": {},
   "outputs": [],
   "source": []
  }
 ],
 "metadata": {
  "kernelspec": {
   "display_name": "R",
   "language": "R",
   "name": "ir"
  },
  "language_info": {
   "codemirror_mode": "r",
   "file_extension": ".r",
   "mimetype": "text/x-r-source",
   "name": "R",
   "pygments_lexer": "r",
   "version": "4.3.3"
  }
 },
 "nbformat": 4,
 "nbformat_minor": 5
}
