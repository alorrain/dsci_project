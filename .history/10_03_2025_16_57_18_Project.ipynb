{
 "cells": [
  {
   "cell_type": "markdown",
   "id": "cb2fbf87-744d-468b-867e-0ea9f7d10b7a",
   "metadata": {},
   "source": []
  },
  {
   "cell_type": "code",
   "execution_count": null,
   "id": "f53433da-27d4-4852-9257-2b15bd01717b",
   "metadata": {},
   "outputs": [],
   "source": [
    "library(tidyverse)\n",
    "library(repr)\n",
    "library(tidymodels)\n",
    "options(repr.matrix.max.rows = 6)"
   ]
  },
  {
   "cell_type": "markdown",
   "id": "109870f0-459c-49c8-baa2-f56b67f5ea7b",
   "metadata": {},
   "source": [
    "After loading the libraries, both data tables are read. The less useful variables such as email and name are cut. "
   ]
  },
  {
   "cell_type": "code",
   "execution_count": null,
   "id": "c58039d9-2240-4b6b-be2a-d2af0d6ba165",
   "metadata": {},
   "outputs": [],
   "source": [
    "players <- read_csv(\"Data/players.csv\") |>\n",
    "select(experience, subscribe, played_hours, gender, Age)\n",
    "sessions <- read_csv(\"Data/sessions.csv\") |>\n",
    "select(start_time, end_time, original_start_time, original_end_time)\n",
    "\n",
    "players\n",
    "sessions"
   ]
  },
  {
   "cell_type": "code",
   "execution_count": null,
   "id": "70885bd4-93af-43f2-856d-e422225326be",
   "metadata": {},
   "outputs": [],
   "source": []
  }
 ],
 "metadata": {
  "kernelspec": {
   "display_name": "R",
   "language": "R",
   "name": "ir"
  },
  "language_info": {
   "codemirror_mode": "r",
   "file_extension": ".r",
   "mimetype": "text/x-r-source",
   "name": "R",
   "pygments_lexer": "r",
   "version": "4.3.3"
  }
 },
 "nbformat": 4,
 "nbformat_minor": 5
}
