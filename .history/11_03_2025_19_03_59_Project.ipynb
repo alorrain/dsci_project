{
 "cells": [
  {
   "cell_type": "code",
   "execution_count": null,
   "id": "1c9b66a3-4143-4248-a234-1d323e414138",
   "metadata": {},
   "outputs": [],
   "source": [
    "library(tidyverse)\n",
    "library(repr)\n",
    "library(tidymodels)\n",
    "options(repr.matrix.max.rows = 7)\n"
   ]
  },
  {
   "cell_type": "markdown",
   "id": "bb85aaec-bf77-41c4-ab20-04e0fd7fba06",
   "metadata": {},
   "source": [
    "This is an analysis of the \"players\" dataset from the PLAIcraft project."
   ]
  },
  {
   "cell_type": "code",
   "execution_count": null,
   "id": "0fa2aa3e-8534-4cad-9e86-26745acbcff3",
   "metadata": {},
   "outputs": [],
   "source": [
    "players <- read_csv(\"Data/players.csv\")\n",
    "players"
   ]
  },
  {
   "cell_type": "markdown",
   "id": "6a6cc773-436b-45bd-a1f7-1df75c833a8e",
   "metadata": {},
   "source": [
    "It can be seen from the table that there are 196 observations (responses) in total. In the data, each user's name and email are recorded. Additionally, the responder's gender and experience ranking are given as factors. Whether they are subscribed to a gaming newsletter is isted as a logical factor. Finally, the amount of hours played and age are both listed as numerical factors. \n",
    "Ultimately, this gives five variables that can be reasonably measured: \n",
    "- Experience\n",
    "- Whether they are subscribed\n",
    "- Hours played\n",
    "- Gender\n",
    "- Age\n",
    "\n",
    "Firstly, the mean of the numerical data, and the mode of the characteristic data is taken. "
   ]
  },
  {
   "cell_type": "code",
   "execution_count": null,
   "id": "cc71ea56-911d-4b03-ba77-9891590ee4f6",
   "metadata": {},
   "outputs": [],
   "source": [
    "numbers <- players |>\n",
    "select(played_hours, Age) |>\n",
    "map_df(mean, na.rm = TRUE) \n",
    "numbers\n",
    "\n",
    "exp <- players|>\n",
    "select(experience, gender) |>\n",
    "group_by(experience) |>\n",
    "summarize(count = n(), percentage = n()/196 * 100)\n",
    "exp\n",
    "\n",
    "genders <- players|>\n",
    "select(experience, gender) |>\n",
    "group_by(gender) |>\n",
    "summarize(count = n(), percentage = n()/196 * 100)\n",
    "genders"
   ]
  },
  {
   "cell_type": "markdown",
   "id": "ef4e851e-d41e-4dfb-84f2-e2e8fce2925d",
   "metadata": {},
   "source": [
    "The broad question to answer is to learn what player characteristics and behaviours are most predictive of subscribing to a game-related newsletter, and how these features differ between various player types. \n",
    "\n",
    "The specific research question is to see if age groups (comparing children (<18) and adults (≥18) can be used to predict a user's willingness to purchase a gaming newsletter subscription. This question was chosen as it is likely that the income for adults or the lack of other financial costs for children may both affect the decision of adults and children to purchase a gaming newsletter subscription. \n",
    "\n",
    "The variables relevant to the question of interest are the subscription status and age of the users. However, it may be worthwhile to investigate experiences and played hours, as those may have relevant trends within age groups that may also correlate to whether the users are subscribed. "
   ]
  },
  {
   "cell_type": "code",
   "execution_count": null,
   "id": "9fc181b0-bdbd-4ea7-aabf-5dd459c18fd2",
   "metadata": {},
   "outputs": [],
   "source": []
  }
 ],
 "metadata": {
  "kernelspec": {
   "display_name": "R",
   "language": "R",
   "name": "ir"
  },
  "language_info": {
   "codemirror_mode": "r",
   "file_extension": ".r",
   "mimetype": "text/x-r-source",
   "name": "R",
   "pygments_lexer": "r",
   "version": "4.3.3"
  }
 },
 "nbformat": 4,
 "nbformat_minor": 5
}
